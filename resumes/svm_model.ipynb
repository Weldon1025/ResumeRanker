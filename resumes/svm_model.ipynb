{
 "cells": [
  {
   "cell_type": "code",
   "execution_count": 3,
   "outputs": [],
   "source": [
    "import warnings\n",
    "warnings.filterwarnings('ignore')\n",
    "\n",
    "\n",
    "import pandas as pd\n",
    "import re\n",
    "import pickle\n",
    "import nltk\n",
    "from nltk.stem import PorterStemmer\n",
    "from sklearn.model_selection import train_test_split\n",
    "from sklearn.feature_extraction.text import TfidfVectorizer\n",
    "from sklearn.svm import SVC\n",
    "from sklearn.metrics import accuracy_score\n",
    "from sklearn.model_selection import GridSearchCV"
   ],
   "metadata": {
    "collapsed": false,
    "pycharm": {
     "name": "#%%\n"
    }
   }
  },
  {
   "cell_type": "code",
   "execution_count": 4,
   "metadata": {
    "collapsed": true
   },
   "outputs": [
    {
     "data": {
      "text/plain": "   Unnamed: 0  Category                                             Resume  \\\n0           0         6  skill program languag python panda numpi scipi...   \n1           1         6  educ detail may may uit rgpv data scientist da...   \n2           2         6  area interest deep learn control system design...   \n3           3         6  skill python sap hana tableau sap hana sql sap...   \n4           4         6  educ detail mca ymcaust faridabad haryana data...   \n\n                                           tokenized  \n0    (0, 1495)\\t0.024570713575492127\\n  (0, 1481)...  \n1    (0, 1495)\\t0.17273040581960264\\n  (0, 1481)\\...  \n2    (0, 1495)\\t0.15032447342486555\\n  (0, 1481)\\...  \n3    (0, 1495)\\t0.060220101707952216\\n  (0, 1487)...  \n4    (0, 1495)\\t0.37410537366072966\\n  (0, 1301)\\...  ",
      "text/html": "<div>\n<style scoped>\n    .dataframe tbody tr th:only-of-type {\n        vertical-align: middle;\n    }\n\n    .dataframe tbody tr th {\n        vertical-align: top;\n    }\n\n    .dataframe thead th {\n        text-align: right;\n    }\n</style>\n<table border=\"1\" class=\"dataframe\">\n  <thead>\n    <tr style=\"text-align: right;\">\n      <th></th>\n      <th>Unnamed: 0</th>\n      <th>Category</th>\n      <th>Resume</th>\n      <th>tokenized</th>\n    </tr>\n  </thead>\n  <tbody>\n    <tr>\n      <th>0</th>\n      <td>0</td>\n      <td>6</td>\n      <td>skill program languag python panda numpi scipi...</td>\n      <td>(0, 1495)\\t0.024570713575492127\\n  (0, 1481)...</td>\n    </tr>\n    <tr>\n      <th>1</th>\n      <td>1</td>\n      <td>6</td>\n      <td>educ detail may may uit rgpv data scientist da...</td>\n      <td>(0, 1495)\\t0.17273040581960264\\n  (0, 1481)\\...</td>\n    </tr>\n    <tr>\n      <th>2</th>\n      <td>2</td>\n      <td>6</td>\n      <td>area interest deep learn control system design...</td>\n      <td>(0, 1495)\\t0.15032447342486555\\n  (0, 1481)\\...</td>\n    </tr>\n    <tr>\n      <th>3</th>\n      <td>3</td>\n      <td>6</td>\n      <td>skill python sap hana tableau sap hana sql sap...</td>\n      <td>(0, 1495)\\t0.060220101707952216\\n  (0, 1487)...</td>\n    </tr>\n    <tr>\n      <th>4</th>\n      <td>4</td>\n      <td>6</td>\n      <td>educ detail mca ymcaust faridabad haryana data...</td>\n      <td>(0, 1495)\\t0.37410537366072966\\n  (0, 1301)\\...</td>\n    </tr>\n  </tbody>\n</table>\n</div>"
     },
     "execution_count": 4,
     "metadata": {},
     "output_type": "execute_result"
    }
   ],
   "source": [
    "resumeDataSet = pd.read_csv('job_resumes.csv')\n",
    "resumeDataSet.head()"
   ]
  },
  {
   "cell_type": "code",
   "execution_count": 5,
   "outputs": [],
   "source": [
    "ps = PorterStemmer()\n",
    "stopwords_list = nltk.corpus.stopwords.words('english')\n",
    "def process_text(x):\n",
    "    x = re.sub('[^a-zA-Z]', ' ', x).lower().split()\n",
    "    x = ' '.join([ps.stem(word) for word in x if word not in stopwords_list])\n",
    "    x = re.sub(r'http\\S+\\s*', ' ', x)\n",
    "    x = re.sub('RT|cc', ' ', x)\n",
    "    x = re.sub(r'#\\S+', '', x)\n",
    "    x = re.sub(r'@\\S+', '  ', x)\n",
    "    x = re.sub(r'[%s]' % re.escape(r\"\"\"!\"#$%&'()*+,-./:;<=>?@[\\]^_`{|}~\"\"\"), ' ', x)\n",
    "    x = re.sub(r'[^\\x00-\\x7F]', r' ', x)\n",
    "    x = re.sub(r'\\b\\w\\b''', '', x)\n",
    "    x = re.sub(r'\\s+', ' ', x)\n",
    "    return x"
   ],
   "metadata": {
    "collapsed": false,
    "pycharm": {
     "name": "#%%\n"
    }
   }
  },
  {
   "cell_type": "code",
   "execution_count": 6,
   "outputs": [],
   "source": [
    "tfidf = TfidfVectorizer(sublinear_tf = True,max_features = 1500,ngram_range = (1,1),min_df = 0.01,max_df = 0.8)\n",
    "X = tfidf.fit_transform(resumeDataSet['Resume'])\n",
    "y = resumeDataSet['Category']"
   ],
   "metadata": {
    "collapsed": false,
    "pycharm": {
     "name": "#%%\n"
    }
   }
  },
  {
   "cell_type": "code",
   "execution_count": 7,
   "outputs": [],
   "source": [
    "features = (tfidf.get_feature_names())"
   ],
   "metadata": {
    "collapsed": false,
    "pycharm": {
     "name": "#%%\n"
    }
   }
  },
  {
   "cell_type": "code",
   "execution_count": 8,
   "outputs": [],
   "source": [
    "X_train, X_val, y_train, y_val = train_test_split(X, y, test_size = 0.20)"
   ],
   "metadata": {
    "collapsed": false,
    "pycharm": {
     "name": "#%%\n"
    }
   }
  },
  {
   "cell_type": "code",
   "execution_count": 9,
   "outputs": [
    {
     "name": "stdout",
     "output_type": "stream",
     "text": [
      "X_train shape : (769, 1500)\n",
      "y_train shape : (769,)\n",
      "X_val shape : (193, 1500)\n",
      "y_val shape : (193,)\n"
     ]
    }
   ],
   "source": [
    "print('X_train shape :',X_train.shape)\n",
    "print('y_train shape :',y_train.shape)\n",
    "print('X_val shape :',X_val.shape)\n",
    "print('y_val shape :',y_val.shape)"
   ],
   "metadata": {
    "collapsed": false,
    "pycharm": {
     "name": "#%%\n"
    }
   }
  },
  {
   "cell_type": "code",
   "execution_count": 10,
   "outputs": [
    {
     "data": {
      "text/plain": "SVC()"
     },
     "execution_count": 10,
     "metadata": {},
     "output_type": "execute_result"
    }
   ],
   "source": [
    "classifier = SVC()\n",
    "classifier.fit(X_train, y_train)"
   ],
   "metadata": {
    "collapsed": false,
    "pycharm": {
     "name": "#%%\n"
    }
   }
  },
  {
   "cell_type": "code",
   "execution_count": 11,
   "outputs": [],
   "source": [
    "y_pred_svc = classifier.predict(X_val)"
   ],
   "metadata": {
    "collapsed": false,
    "pycharm": {
     "name": "#%%\n"
    }
   }
  },
  {
   "cell_type": "code",
   "execution_count": 12,
   "outputs": [
    {
     "name": "stdout",
     "output_type": "stream",
     "text": [
      "Accuracy of SVC Classifier: 0.98\n"
     ]
    }
   ],
   "source": [
    "print('Accuracy of SVC Classifier: {:.2f}'.format(accuracy_score(y_val,y_pred_svc)))"
   ],
   "metadata": {
    "collapsed": false,
    "pycharm": {
     "name": "#%%\n"
    }
   }
  },
  {
   "cell_type": "code",
   "execution_count": 14,
   "outputs": [],
   "source": [
    "param_grid_svc = {'C':[0.1,1,10,100,1000],'gamma':[1,0.1,0.01,0.001,0.0001]}"
   ],
   "metadata": {
    "collapsed": false,
    "pycharm": {
     "name": "#%%\n"
    }
   }
  },
  {
   "cell_type": "code",
   "execution_count": 15,
   "outputs": [
    {
     "name": "stdout",
     "output_type": "stream",
     "text": [
      "{'C': 10, 'gamma': 0.1}\n",
      "Accuracy Score :  0.9792746113989638\n"
     ]
    }
   ],
   "source": [
    "grid_svc_acc = GridSearchCV(classifier, param_grid_svc)\n",
    "grid_svc_acc.fit(X_train, y_train)\n",
    "print(grid_svc_acc.best_params_)\n",
    "y_pred_svc_acc = grid_svc_acc.predict(X_val)\n",
    "print('Accuracy Score : ' , accuracy_score(y_val,y_pred_svc_acc))"
   ],
   "metadata": {
    "collapsed": false,
    "pycharm": {
     "name": "#%%\n"
    }
   }
  },
  {
   "cell_type": "code",
   "execution_count": 16,
   "outputs": [],
   "source": [
    "# saving the model\n",
    "with open('svm_model.pkl', 'wb') as f:\n",
    "    pickle.dump(grid_svc_acc, f)"
   ],
   "metadata": {
    "collapsed": false,
    "pycharm": {
     "name": "#%%\n"
    }
   }
  },
  {
   "cell_type": "code",
   "execution_count": null,
   "outputs": [],
   "source": [],
   "metadata": {
    "collapsed": false,
    "pycharm": {
     "name": "#%%\n"
    }
   }
  }
 ],
 "metadata": {
  "kernelspec": {
   "display_name": "Python 3",
   "language": "python",
   "name": "python3"
  },
  "language_info": {
   "codemirror_mode": {
    "name": "ipython",
    "version": 2
   },
   "file_extension": ".py",
   "mimetype": "text/x-python",
   "name": "python",
   "nbconvert_exporter": "python",
   "pygments_lexer": "ipython2",
   "version": "2.7.6"
  }
 },
 "nbformat": 4,
 "nbformat_minor": 0
}